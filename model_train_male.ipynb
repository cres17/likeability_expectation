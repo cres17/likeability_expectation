{
  "nbformat": 4,
  "nbformat_minor": 0,
  "metadata": {
    "colab": {
      "provenance": [],
      "gpuType": "T4"
    },
    "kernelspec": {
      "name": "python3",
      "display_name": "Python 3"
    },
    "language_info": {
      "name": "python"
    },
    "accelerator": "GPU"
  },
  "cells": [
    {
      "cell_type": "code",
      "execution_count": null,
      "metadata": {
        "id": "bojyvgINe6ln",
        "collapsed": true,
        "colab": {
          "base_uri": "https://localhost:8080/"
        },
        "outputId": "06dc03f4-b23c-4597-eeb2-cfbc9153d044"
      },
      "outputs": [
        {
          "output_type": "stream",
          "name": "stdout",
          "text": [
            "Requirement already satisfied: torch in /usr/local/lib/python3.11/dist-packages (2.6.0+cu124)\n",
            "Requirement already satisfied: transformers in /usr/local/lib/python3.11/dist-packages (4.51.3)\n",
            "Collecting sklearn\n",
            "  Downloading sklearn-0.0.post12.tar.gz (2.6 kB)\n",
            "  \u001b[1;31merror\u001b[0m: \u001b[1msubprocess-exited-with-error\u001b[0m\n",
            "  \n",
            "  \u001b[31m×\u001b[0m \u001b[32mpython setup.py egg_info\u001b[0m did not run successfully.\n",
            "  \u001b[31m│\u001b[0m exit code: \u001b[1;36m1\u001b[0m\n",
            "  \u001b[31m╰─>\u001b[0m See above for output.\n",
            "  \n",
            "  \u001b[1;35mnote\u001b[0m: This error originates from a subprocess, and is likely not a problem with pip.\n",
            "  Preparing metadata (setup.py) ... \u001b[?25l\u001b[?25herror\n",
            "\u001b[1;31merror\u001b[0m: \u001b[1mmetadata-generation-failed\u001b[0m\n",
            "\n",
            "\u001b[31m×\u001b[0m Encountered error while generating package metadata.\n",
            "\u001b[31m╰─>\u001b[0m See above for output.\n",
            "\n",
            "\u001b[1;35mnote\u001b[0m: This is an issue with the package mentioned above, not pip.\n",
            "\u001b[1;36mhint\u001b[0m: See above for details.\n"
          ]
        }
      ],
      "source": [
        "!pip install torch transformers sklearn scipy matplotlib wandb"
      ]
    },
    {
      "cell_type": "code",
      "source": [
        "import torch\n",
        "import torch.nn as nn\n",
        "import torch.nn.functional as F\n",
        "from torch.utils.data import Dataset, DataLoader, random_split\n",
        "from torch.optim import Adam\n",
        "from torch.optim.lr_scheduler import ReduceLROnPlateau\n",
        "from transformers import AutoTokenizer, AutoModel\n",
        "import json\n",
        "import numpy as np\n",
        "from sklearn.metrics import mean_squared_error, mean_absolute_error\n",
        "from scipy.stats import pearsonr\n",
        "import matplotlib.pyplot as plt\n",
        "import wandb\n",
        "from torch.cuda.amp import autocast, GradScaler\n",
        "from torch.utils.checkpoint import checkpoint\n",
        "from torch.cuda import empty_cache\n",
        "from tqdm.auto import tqdm"
      ],
      "metadata": {
        "id": "sXJcDfkRoAX4"
      },
      "execution_count": null,
      "outputs": []
    },
    {
      "cell_type": "code",
      "source": [
        "# ── 1) Configuration ─────────────────────────────────────────────────────\n",
        "MODEL_NAME    = \"monologg/kobigbird-bert-base\"\n",
        "DROPOUT_RATE  = 0.5\n",
        "LEARNING_RATE = 1e-5\n",
        "L2_LAMBDA     = 1e-3\n",
        "BATCH_SIZE    = 1\n",
        "EPOCHS        = 10\n",
        "MAX_LEN       = 128\n",
        "\n",
        "# Utterance representation dims\n",
        "ENC_HIDDEN    = 768\n",
        "UT_DIM        = 100\n",
        "PROJ_DIM      = UT_DIM\n",
        "RANK          = 10\n",
        "SLICES        = UT_DIM\n",
        "CNN_CHANNELS  = 200\n",
        "\n",
        "# ── 2) Dataset: 대화 단위 그룹화 (left/right 추가) ──────────────────────────\n",
        "class DialogueDataset(Dataset):\n",
        "    def __init__(self, path, tokenizer, perspective):\n",
        "        \"\"\"\n",
        "        perspective: 'male' or 'female'\n",
        "        \"\"\"\n",
        "        self.tokenizer  = tokenizer\n",
        "        self.persp      = perspective\n",
        "        self.label_key  = f\"soft_label_{perspective}\"\n",
        "        dialogues = {}\n",
        "        with open(path, encoding='utf-8') as f:\n",
        "            for line in f:\n",
        "                it = json.loads(line)\n",
        "                dialogues.setdefault(it['dialogue_id'], []).append(it)\n",
        "        self.dialogues = list(dialogues.values())\n",
        "\n",
        "    def __len__(self):\n",
        "        return len(self.dialogues)\n",
        "\n",
        "    def __getitem__(self, idx):\n",
        "        items = self.dialogues[idx]\n",
        "        batch = {\n",
        "            'left_ids':[], 'left_mask':[],\n",
        "            'cur_ids':[],  'cur_mask':[],\n",
        "            'right_ids':[],'right_mask':[],\n",
        "            'label':[],    # float tensor\n",
        "            'loss_mask':[] # 1 if this utterance is in-perspective else 0\n",
        "        }\n",
        "        for it in items:\n",
        "            # --- 토크나이즈 ---\n",
        "            for side in ('left','cur','right'):\n",
        "                text = it.get(f'context_{side}') if side!='cur' else it['text']\n",
        "                text = text or \"\"\n",
        "                enc  = self.tokenizer(text,\n",
        "                                      truncation=True,\n",
        "                                      padding='max_length',\n",
        "                                      max_length=MAX_LEN,\n",
        "                                      return_tensors='pt')\n",
        "                batch[f'{side}_ids'].append( enc.input_ids .squeeze(0) )\n",
        "                batch[f'{side}_mask'].append(enc.attention_mask.squeeze(0).bool())\n",
        "\n",
        "            # --- 레이블 & 마스크 ---\n",
        "            if it['speaker']==self.persp:\n",
        "                # 내 관점 발화일 때만 진짜 레이블\n",
        "                batch['label'].append(torch.tensor(\n",
        "                    float(it[self.label_key]), dtype=torch.float))\n",
        "                batch['loss_mask'].append(1)\n",
        "            else:\n",
        "                # 그 외 발화는 0으로 채우고, 손실에선 무시\n",
        "                batch['label'].append(torch.tensor(0., dtype=torch.float))\n",
        "                batch['loss_mask'].append(0)\n",
        "\n",
        "        # stack → (T, …)\n",
        "        for k in ('left_ids','left_mask','cur_ids','cur_mask','right_ids','right_mask'):\n",
        "            batch[k] = torch.stack(batch[k])\n",
        "        batch['label']     = torch.stack(batch['label'])\n",
        "        batch['loss_mask'] = torch.tensor(batch['loss_mask'], dtype=torch.bool)\n",
        "        return batch\n",
        "\n",
        "\n",
        "\n",
        "# ── 3) TransformerEmbed + n-gram CNN + CLS Adapter ─────────────────────────\n",
        "class TransformerEmbed(nn.Module):\n",
        "    def __init__(self, model_name=MODEL_NAME, fine_tune=True):\n",
        "        super().__init__()\n",
        "        # 1) 사전학습 모델 로드\n",
        "        self.encoder      = AutoModel.from_pretrained(model_name)\n",
        "        self.encoder.gradient_checkpointing_enable()\n",
        "        self.encoder.config.use_cache = False\n",
        "        self.pad_token_id = self.encoder.config.pad_token_id\n",
        "\n",
        "        # 2) n-gram CNN 브랜치 (3,4,5-gram × 50채널)\n",
        "        self.convs        = nn.ModuleList([\n",
        "            nn.Conv1d(ENC_HIDDEN, 50, k, padding=k//2)\n",
        "            for k in (3, 4, 5)\n",
        "        ])\n",
        "        self.fc_ngram     = nn.Linear(50 * 3, PROJ_DIM)\n",
        "\n",
        "        # 3) CLS 어댑터 브랜치\n",
        "        self.proj_cls     = nn.Linear(ENC_HIDDEN, PROJ_DIM)\n",
        "        self.cnn_adapter  = nn.Conv1d(1, PROJ_DIM, kernel_size=3, padding=1)\n",
        "        self.pool_adapter = nn.AdaptiveMaxPool1d(1)\n",
        "\n",
        "        # 4) 드롭아웃\n",
        "        self.dropout      = nn.Dropout(DROPOUT_RATE)\n",
        "\n",
        "    def forward(self, ids, _mask_unused=None):\n",
        "        # 1) 원본 토큰 마스크 (pad_token_id 기준)\n",
        "        mask_tok = ids.ne(self.pad_token_id)      # (B, T_tok)\n",
        "\n",
        "        # 2) Transformer 인코딩\n",
        "        out  = self.encoder(input_ids=ids, attention_mask=mask_tok.float())\n",
        "        seq  = out.last_hidden_state              # (B, T_enc, H)\n",
        "        x    = seq.permute(0,2,1)                # (B, H, T_enc)\n",
        "\n",
        "        # 3) n-gram CNN 브랜치\n",
        "        feats = []\n",
        "        for conv in self.convs:\n",
        "            c = conv(x)                          # (B, C, Tc)\n",
        "            Tc = c.size(2)\n",
        "\n",
        "            # --- 여기서 mask_tok → mask_conv로 재생성 ---\n",
        "            if mask_tok.size(1) < Tc:\n",
        "                # 부족분은 False(padding)로 채움\n",
        "                pad = torch.zeros(\n",
        "                    mask_tok.size(0), Tc - mask_tok.size(1),\n",
        "                    dtype=torch.bool, device=mask_tok.device\n",
        "                )\n",
        "                mask_conv = torch.cat([mask_tok, pad], dim=1)\n",
        "            elif mask_tok.size(1) > Tc:\n",
        "                mask_conv = mask_tok[:, :Tc]\n",
        "            else:\n",
        "                mask_conv = mask_tok\n",
        "\n",
        "            # (B,1,Tc) 로 형태 맞춘 뒤에 fill\n",
        "            neg_inf = torch.tensor(-float('inf'), dtype=c.dtype, device=c.device)\n",
        "            c = c.masked_fill(~mask_conv.unsqueeze(1), neg_inf)\n",
        "\n",
        "            pooled = F.relu(c).max(dim=2)[0]     # (B, C)\n",
        "            feats.append(pooled)\n",
        "\n",
        "        ngram = F.relu(self.fc_ngram(torch.cat(feats, dim=1)))  # (B, PROJ_DIM)\n",
        "\n",
        "        # 5) CLS 토큰 어댑터 브랜치\n",
        "        cls_token = seq[:, 0]                            # (B, H)\n",
        "        cls_proj  = F.relu(self.proj_cls(cls_token))     # (B, PROJ_DIM)\n",
        "        a         = cls_proj.unsqueeze(1)                # (B,1,PROJ_DIM)\n",
        "        c2        = F.relu(self.cnn_adapter(a))          # (B,PROJ_DIM,PROJ_DIM)\n",
        "        c2        = self.pool_adapter(c2).squeeze(-1)    # (B, PROJ_DIM)\n",
        "        cls_feat  = cls_proj + c2                        # (B, PROJ_DIM)\n",
        "\n",
        "        # 6) 두 브랜치 결합 & 드롭아웃\n",
        "        feat = (ngram + cls_feat) * 0.5                  # (B, PROJ_DIM)\n",
        "        return self.dropout(feat)                        # (B, PROJ_DIM)\n",
        "\n",
        "\n",
        "\n",
        "# ── 4) GNTB w/ randomized init and dropout ─────────────────────────────────\n",
        "class GNTB(nn.Module):\n",
        "    def __init__(self, input_dim, r, k, use_context=True):\n",
        "        \"\"\"\n",
        "        input_dim: expected size of concatenated vector\n",
        "        r: tensor rank for decomposition\n",
        "        k: number of tensor slices\n",
        "        use_context: if True, when prev_p is None use zero-context of size k concatenated with utt;\n",
        "                     if False, use utt directly as m (for second NTN stage)\n",
        "        \"\"\"\n",
        "        super().__init__()\n",
        "        self.input_dim = input_dim\n",
        "        self.k = k\n",
        "        self.r = r\n",
        "        self.use_context = use_context\n",
        "\n",
        "        # Parameters for tensor decomposition\n",
        "        self.U = nn.Parameter(torch.randn(k, input_dim, r) * 0.02)\n",
        "        self.V = nn.Parameter(torch.randn(k, r, input_dim) * 0.02)\n",
        "        self.e = nn.Parameter(torch.randn(k, input_dim) * 0.02)\n",
        "        self.W = nn.Parameter(torch.randn(k, input_dim) * 0.02)\n",
        "        self.bias = nn.Parameter(torch.randn(k) * 0.02)\n",
        "        self.dropout = nn.Dropout(DROPOUT_RATE)\n",
        "\n",
        "    def forward(self, prev_p, utt):\n",
        "        # If utt is 3D (B,1,D) or similar, flatten to 2D (B,D)\n",
        "        if utt.dim() > 2:\n",
        "            utt = utt.view(utt.size(0), -1)  # (B, D)\n",
        "\n",
        "        # Determine m based on use_context flag\n",
        "        if self.use_context:\n",
        "            # Create zero context of shape (B, k)\n",
        "            if prev_p is None:\n",
        "                ctx = torch.zeros(utt.size(0), self.k, device=utt.device)\n",
        "            else:\n",
        "                # If prev_p is 3D, flatten\n",
        "                if prev_p.dim() > 2:\n",
        "                    prev_p = prev_p.view(prev_p.size(0), -1)\n",
        "                ctx = prev_p\n",
        "            # Concatenate context and utterance\n",
        "            m = torch.cat([ctx, utt], dim=1)  # (B, k + utt_dim)\n",
        "        else:\n",
        "            # No context: use utt directly\n",
        "            m = utt  # (B, input_dim)\n",
        "\n",
        "        # Validate input dimension\n",
        "        if m.size(1) != self.input_dim:\n",
        "            raise RuntimeError(f\"NTN input dim mismatch: expected {self.input_dim}, got {m.size(1)}\")\n",
        "\n",
        "        B = m.size(0)\n",
        "        outs = []\n",
        "        # Iteratively compute each tensor slice\n",
        "        for i in range(self.k):\n",
        "            UV = self.U[i] @ self.V[i]  # (input_dim, input_dim)\n",
        "            # bilinear interaction\n",
        "            t = torch.bmm(\n",
        "                m.unsqueeze(1),  # (B,1,input_dim)\n",
        "                UV.unsqueeze(0).expand(B, -1, -1)  # (B,input_dim,input_dim)\n",
        "            )  # -> (B,1,input_dim)\n",
        "            t = torch.bmm(t, m.unsqueeze(2)).squeeze(1)  # -> (B)\n",
        "            # diagonal term\n",
        "            de = (m * m * self.e[i]).sum(dim=1)  # (B)\n",
        "            # linear term\n",
        "            lin = (m * self.W[i]).sum(dim=1)  # (B)\n",
        "            outs.append(t + de + lin + self.bias[i])  # (B)\n",
        "        comp = torch.stack(outs, dim=1)  # (B, k)\n",
        "        return self.dropout(torch.tanh(comp))  # (B, k)\n",
        "\n",
        "\n",
        "\n",
        "\n",
        "# ── 5) TFEModule w/ two-channel & projection ─────────────────────────────────\n",
        "class TFEModule(nn.Module):\n",
        "    def __init__(self, dim=PROJ_DIM*2, cnn_channels=CNN_CHANNELS):\n",
        "        super().__init__()\n",
        "        # LSTMCell will operate on 2-D inputs (batch_size × dim)\n",
        "        self.lstm_cell = nn.LSTMCell(dim, dim)\n",
        "        # 1-D CNN branch\n",
        "        self.cnn        = nn.Conv1d(1, cnn_channels, kernel_size=3, padding=1)\n",
        "        self.pool       = nn.AdaptiveMaxPool1d(1)\n",
        "        # projection back to `dim`\n",
        "        self.fc_proj    = nn.Linear(dim + cnn_channels, dim)\n",
        "        self.dropout    = nn.Dropout(DROPOUT_RATE)\n",
        "\n",
        "    def forward(self, pt, states):\n",
        "        h, c = states\n",
        "        # ── 1) 입력이 3D라면 (B,1,dim) 같은 형태 → (B, dim) 으로 펼쳐 줍니다\n",
        "        if pt.dim() > 2:\n",
        "            pt = pt.view(pt.size(0), -1)\n",
        "\n",
        "        # ── 2) LSTMCell expects 2D: (batch_size, dim)\n",
        "        h_new, c_new = self.lstm_cell(pt, (h, c))\n",
        "\n",
        "        # ── 3) CNN branch: pt → (B,1,dim) → conv → (B, cnn_channels, dim)\n",
        "        x        = pt.unsqueeze(1)\n",
        "        conv_out = F.relu(self.cnn(x))\n",
        "        cnn_feat = self.pool(conv_out).squeeze(-1)  # (B, cnn_channels)\n",
        "\n",
        "        # ── 4) 두 채널 합치고 projection\n",
        "        ef       = torch.cat([h_new, cnn_feat], dim=1)    # (B, dim + cnn_channels)\n",
        "        ef       = F.relu(self.fc_proj(ef))               # (B, dim)\n",
        "\n",
        "        # ── 5) 드롭아웃 적용 후 반환\n",
        "        return self.dropout(ef), (h_new, c_new)\n",
        "\n",
        "\n",
        "# ── 6) BiERU-lc with explicit neighbor context ──────────────────────────────\n",
        "class BiERULocal(nn.Module):\n",
        "    def __init__(self, fine_tune=True):\n",
        "        super().__init__()\n",
        "        self.embed = TransformerEmbed(fine_tune=fine_tune)\n",
        "        # 1) 로컬 컨텍스트 GNTB\n",
        "        self.gntb  = GNTB(input_dim=PROJ_DIM*2, r=RANK, k=SLICES, use_context=True)\n",
        "        # 2) TFEModule\n",
        "        self.tfe   = TFEModule(dim=PROJ_DIM*2, cnn_channels=CNN_CHANNELS)\n",
        "        # 3) tanh 후 4d 입력 받는 회귀 헤드\n",
        "        self.reg   = nn.Linear(PROJ_DIM*4, 1)\n",
        "\n",
        "    def forward(self, batch):\n",
        "        T      = batch['cur_ids'].size(0)\n",
        "        device = batch['cur_ids'].device\n",
        "\n",
        "        # (1) 이웃 임베딩\n",
        "        ul = [self.embed(batch['left_ids'][t].unsqueeze(0),\n",
        "                         batch['left_mask'][t].unsqueeze(0)) for t in range(T)]\n",
        "        uc = [self.embed(batch['cur_ids'][t].unsqueeze(0),\n",
        "                         batch['cur_mask'][t].unsqueeze(0))  for t in range(T)]\n",
        "        ur = [self.embed(batch['right_ids'][t].unsqueeze(0),\n",
        "                         batch['right_mask'][t].unsqueeze(0)) for t in range(T)]\n",
        "\n",
        "        # (2) 순방향/역방향 GNTB\n",
        "        fwd = [self.gntb(None, uc[0])]\n",
        "        for t in range(1, T):\n",
        "            fwd.append(self.gntb(fwd[-1], uc[t]))\n",
        "        bwd = [self.gntb(None, uc[-1])]\n",
        "        for t in reversed(range(T-1)):\n",
        "            bwd.insert(0, self.gntb(bwd[0], uc[t]))\n",
        "\n",
        "        # (3) TFEModule 초기 상태\n",
        "        h = torch.zeros(1, PROJ_DIM*2, device=device)\n",
        "        c = torch.zeros(1, PROJ_DIM*2, device=device)\n",
        "\n",
        "        preds, truths = [], batch['label'].to(device)\n",
        "        for t in range(T):\n",
        "            # a) local fwd+bwd → TFE\n",
        "            p_fb, (h, c) = self.tfe(\n",
        "                torch.cat([fwd[t], bwd[t]], dim=1),\n",
        "                (h, c)\n",
        "            )  # (1,2d)\n",
        "\n",
        "            # b) neighbor concat + tanh → (1,4d)\n",
        "            p_cat = torch.tanh(torch.cat([p_fb, ul[t], ur[t]], dim=1))\n",
        "\n",
        "            # c) 바로 회귀\n",
        "            sc = self.reg(p_cat).squeeze(-1)  # → (1,)\n",
        "            preds.append(sc)\n",
        "\n",
        "        preds = torch.cat(preds, dim=0)   # (T,)\n",
        "        return preds, truths\n",
        "\n",
        "def collate_fn(batch):\n",
        "    # batch는 길이 1인 리스트([sample_dict])이므로, 첫번째 원소를 반환합니다.\n",
        "    return batch[0]\n",
        "\n",
        "# ── 7) Training & Evaluation with validation LR scheduling ────────────────\n",
        "# Tokenizer & Dataset\n",
        "# ── Tokenizer & Dataset 준비 ──────────────────────────────────────────────\n",
        "tokenizer = AutoTokenizer.from_pretrained(MODEL_NAME)\n",
        "\n",
        "# 관점별로 별도 Dataset 생성\n",
        "male_ds   = DialogueDataset('dialogues_with_soft_labels.jsonl', tokenizer, perspective='male')\n",
        "female_ds = DialogueDataset('dialogues_with_soft_labels.jsonl', tokenizer, perspective='female')\n",
        "\n",
        "# train/val 분리 (80/20 예시)\n",
        "train_m_ds, val_m_ds = random_split(male_ds,   [int(0.8*len(male_ds)),   len(male_ds)   - int(0.8*len(male_ds))])\n",
        "train_f_ds, val_f_ds = random_split(female_ds, [int(0.8*len(female_ds)), len(female_ds) - int(0.8*len(female_ds))])\n",
        "\n",
        "# DataLoader 생성\n",
        "male_train_loader   = DataLoader(train_m_ds, batch_size=BATCH_SIZE, shuffle=True,  collate_fn=collate_fn)\n",
        "male_val_loader     = DataLoader(val_m_ds,   batch_size=BATCH_SIZE, shuffle=False, collate_fn=collate_fn)\n",
        "female_train_loader = DataLoader(train_f_ds, batch_size=BATCH_SIZE, shuffle=True,  collate_fn=collate_fn)\n",
        "female_val_loader   = DataLoader(val_f_ds,   batch_size=BATCH_SIZE, shuffle=False, collate_fn=collate_fn)\n",
        "\n",
        "# Model, optimizer, scheduler, criterion\n",
        "device = torch.device('cuda' if torch.cuda.is_available() else 'cpu')\n",
        "train_loader = male_train_loader\n",
        "val_loader   = male_val_loader\n",
        "model        = BiERULocal().to(device)\n",
        "optimizer    = Adam(model.parameters(), lr=LEARNING_RATE, weight_decay=L2_LAMBDA)\n",
        "scheduler    = ReduceLROnPlateau(optimizer, mode='min', factor=0.5, patience=1, verbose=True)\n",
        "criterion    = nn.MSELoss()\n",
        "scaler       = GradScaler()\n",
        "\n",
        "scaler = GradScaler()\n",
        "\n",
        "# Training & validation loops\n",
        "for epoch in range(1, EPOCHS+1):\n",
        "    # ── Training ────────────────────────────────────────────────────────────\n",
        "    model.train()\n",
        "    train_losses = []\n",
        "    train_iter = tqdm(train_loader, desc=f\"[Epoch {epoch}/{EPOCHS}] Train\", leave=False)\n",
        "    for batch in train_iter:\n",
        "        # move to GPU\n",
        "        batch = {k: v.to(device) for k,v in batch.items()}\n",
        "\n",
        "        optimizer.zero_grad(set_to_none=True)\n",
        "\n",
        "        with autocast():\n",
        "            preds, truths = model(batch)            # preds: (T,), truths: (T,)\n",
        "\n",
        "            # ── Loss Masking ────────────────────────────────────────────────\n",
        "            # left/right context가 모두 있는 발화만\n",
        "            # batch['left_mask'][t]: (MAX_LEN,) 토큰 마스크\n",
        "            left_exist  = batch['left_mask'].any(dim=1)  # (T,)\n",
        "            right_exist = batch['right_mask'].any(dim=1) # (T,)\n",
        "            ctx_mask    = left_exist & right_exist       # (T,)\n",
        "\n",
        "            if ctx_mask.sum() == 0:\n",
        "                # 전부 경계 발화라면 skip\n",
        "                continue\n",
        "\n",
        "            masked_preds  = preds[ctx_mask]   # (N,)\n",
        "            masked_truths = truths[ctx_mask]  # (N,)\n",
        "            loss = criterion(masked_preds, masked_truths)\n",
        "\n",
        "        # backward & step\n",
        "        scaler.scale(loss).backward()\n",
        "        scaler.step(optimizer)\n",
        "        scaler.update()\n",
        "\n",
        "        train_losses.append(loss.item())\n",
        "        train_iter.set_postfix(train_loss=f\"{loss.item():.4f}\")\n",
        "\n",
        "        # VRAM 즉시 회수\n",
        "        del batch, preds, truths, masked_preds, masked_truths, loss\n",
        "        empty_cache()\n",
        "\n",
        "    avg_train_loss = np.mean(train_losses)\n",
        "\n",
        "    # ── Validation ──────────────────────────────────────────────────────────\n",
        "    model.eval()\n",
        "    val_losses = []\n",
        "    all_preds, all_truths = [], []\n",
        "    val_iter = tqdm(val_loader, desc=f\"[Epoch {epoch}/{EPOCHS}] Val  \", leave=False)\n",
        "    with torch.no_grad():\n",
        "        for batch in val_loader:\n",
        "            batch = {k: v.to(device) for k,v in batch.items()}\n",
        "            with autocast():\n",
        "                preds, truths = model(batch)\n",
        "\n",
        "                left_exist  = batch['left_mask'].any(dim=1)\n",
        "                right_exist = batch['right_mask'].any(dim=1)\n",
        "                ctx_mask    = left_exist & right_exist\n",
        "\n",
        "                if ctx_mask.sum() == 0:\n",
        "                    continue\n",
        "\n",
        "                loss = criterion(preds[ctx_mask], truths[ctx_mask])\n",
        "\n",
        "            val_losses.append(loss.item())\n",
        "            val_iter.set_postfix(val_loss=f\"{loss.item():.4f}\")\n",
        "            all_preds.extend(preds[ctx_mask].cpu().tolist())\n",
        "            all_truths.extend(truths[ctx_mask].cpu().tolist())\n",
        "\n",
        "    avg_val_loss = np.mean(val_losses)\n",
        "    scheduler.step(avg_val_loss)\n",
        "    print(f\"Epoch {epoch}/{EPOCHS}  Train Loss: {avg_train_loss:.4f}  Val Loss: {avg_val_loss:.4f}\")\n",
        "    print(f\"Epoch {epoch}/{EPOCHS}  \"\n",
        "          f\"Train Loss: {avg_train_loss:.4f}  \"\n",
        "          f\"Val Loss:   {avg_val_loss:.4f}\")\n",
        "\n",
        "# Final Evaluation Metrics\n",
        "mse  = mean_squared_error(all_truths, all_preds)\n",
        "rmse = np.sqrt(mse)\n",
        "mae  = mean_absolute_error(all_truths, all_preds)\n",
        "pear = pearsonr(all_truths, all_preds)[0]\n",
        "# CRPS approx\n",
        "crps = np.mean((np.array(all_preds) - np.array(all_truths))**2)\n",
        "# ECE via quantile bins\n",
        "bins = 10\n",
        "quantiles = np.quantile(all_preds, np.linspace(0,1,bins+1))\n",
        "bin_ids = np.digitize(all_preds, quantiles) - 1\n",
        "ece = 0.0\n",
        "for b in range(bins):\n",
        "    idx = np.where(bin_ids == b)[0]\n",
        "    if len(idx) > 0:\n",
        "        ece += abs(np.mean(np.array(all_truths)[idx]) - np.mean(np.array(all_preds)[idx])) * len(idx) / len(all_preds)\n",
        "\n",
        "print(f\"Final Evaluation → RMSE: {rmse:.4f}, MAE: {mae:.4f}, Pearson: {pear:.4f}, CRPS: {crps:.4f}, ECE: {ece:.4f}\")\n",
        "\n",
        "# Continuous Reliability Diagram\n",
        "plt.figure()\n",
        "bin_means_pred = [np.mean(np.array(all_preds)[np.where(bin_ids==b)[0]]) for b in range(bins)]\n",
        "bin_means_true = [np.mean(np.array(all_truths)[np.where(bin_ids==b)[0]]) for b in range(bins)]\n",
        "plt.plot(bin_means_pred, bin_means_true, marker='o', label='Observed')\n",
        "plt.plot([0,1],[0,1],'k--', label='Ideal')\n",
        "plt.xlabel('Mean Predicted Score')\n",
        "plt.ylabel('Mean True Score')\n",
        "plt.title('Continuous Reliability Diagram')\n",
        "plt.legend()\n",
        "plt.show()"
      ],
      "metadata": {
        "id": "yjH0PAfdWsE_",
        "colab": {
          "base_uri": "https://localhost:8080/",
          "height": 1000,
          "referenced_widgets": [
            "54f7a51de6b5429ea14239bb09efe2df",
            "d1edd16440a246468ff33a3a59ff9747",
            "05d0c2138cd14dff8a8aa1376ccee253",
            "83b21d1b6d484430b7e771affc89bf32",
            "3638daa1e6874f49874654a5ab0eef97",
            "21178247bc4f449c8a2d546c6846196f",
            "3f62a74169154a2e92368c9be1512138",
            "8886fa6f8ffb45b1b4dce878ccecf44e",
            "34b1b7bc40654d8a9e5b1a1ba7ac67e4",
            "75895994a65949af9380da6d77d98df8",
            "7ee3033141ad46f89203e853fb080bc4",
            "de684695c6594ab7bdeaac25733fc723",
            "64ce140ebf124f619776de88980eaee3",
            "8f986861b0fa4a51a89d54b5e9388307",
            "01ebcb155af54c6a8310daddb2437a07",
            "257d30a9f30341ec916de8244ed2138f",
            "f5cf1229d02f41cfb8a12e3efaf24974",
            "f76c5fc697b9445e920244feb74b7024",
            "29e70c18a3674f7baa6ee1197d3845db",
            "c2c371b6e3e54595b17276ed04fbd747",
            "1b351aeaea9f4ad1bef0819c7314e043",
            "fd5acb70fb4a48c79e0b088b5e150380",
            "c32c3496bcc84bf3b95fa16a12f11aed",
            "2afc6a8585ae4bcebe8694f13daaeeb3",
            "59d600b7b9744758b540db05814bdd48",
            "9128a6b7c3344c9283434bfb8fa49043",
            "11f4fa41b51c4e3ea1a5f9058d687a07",
            "a3ec2a1fc7ea4628bb82ff2508a95b28",
            "8d05d92403b7447fa6d06478549c0ae1",
            "0de344b406fb4b10acd3b59ef23fd024",
            "61e21a9f006b4e48951d765fb232f5b7",
            "ee69bcc2fc5548d88999ba90760b1427",
            "ad67e2f73fc74386838fca80204beec2",
            "d6892bcf44d24f168a1c783be8d5dba5",
            "07141fa8e7ef4542b145b31be777312d",
            "dfb28847a5a249d7b312ba47f17c5e90",
            "06e3328da47d4bf3a04151961213fa45",
            "0fdb895f6ab1424cba51f3daf38c22f2",
            "aa6e77c902da4b82916da959b6af58af",
            "b1fe593b742a414590d4eb1db877f551",
            "567695b542fd48a18d984b7319918946",
            "826021d968e348ae96d5a2b03d276041",
            "e80efa0704ff4cd792b69c5ad93cd50b",
            "d993c351f0144cc9a3a7f3f054285889",
            "d25fc911df8c4e638c07dc347e40df43",
            "ed0d1d3ca5a843c993dbfd6a78f3ce3d",
            "27de88c9c5b54fa0b8788fe3db92e7a3",
            "ebd7e36f01204dfab79fa2cb665257c8",
            "df91ea058bbb4c609f358d4da5425487",
            "495c3f26ebb64793b09965f15a276d7a",
            "130c74fd7b9e4be1aa17b46a505fe7eb",
            "ffb4ff2bd55b4033b075a565f959936d",
            "067c24146f0c4ca08aeded84182fc8c7",
            "0bc2c831a6084ca8b5a2160446417cc1",
            "754c751d780a47b4a2b6293735d0a3cd",
            "4c64945243fb4bf4ba1f5c5727ca94c2",
            "64a3cdfec5b34f929fe7b7ab2159b13c",
            "542797fbef514856b9ac45899a4313c1",
            "ab30091d0bf6434f885086c58a6f58b0",
            "959d941d188340fea276a9dfc934f67f",
            "d668e6323cec48acad348a5e7f6452f2",
            "05bcde0c48db45eebfcfe147365a4aed",
            "1d3953a6f7324a6387427b18753b8b99",
            "df8d95380e33425eba5280c156c97378",
            "15e3ec430e1e4695bd63833eeec8a172",
            "75612d518ce547a7ba69a708daa06bf0",
            "47ec752cde384cc59f3eb519c2ef8b51",
            "f3a491a7618f4af18cf2828ecde84b49",
            "74e004facd70477480375c71d799a8b5",
            "21063f1a86094980a494094f8bfe7c91",
            "6fa957bf8f7a4fcf8d07afe97b958f8a",
            "7cb835dc77fd4770bb2bde554b9e1bdb",
            "8451c3e6df76456ab3f5e92803b73b37",
            "3dadd2fc3afa4335b0015cb27721fb39",
            "aa2288ec3cc645e5913bf972578feaf0",
            "57700dbbe0b14813860c726c0f733d27",
            "8ad0cae7d88848358f57857556a2ac60",
            "53414c75c38342dfab23c5bed07f3192",
            "6eb831ec22674b0a81f5414c842db55b",
            "a8e56aa33ca54c19902ae0b08d1454c8",
            "e1abfdb9e2ae41e58b01ff0d65cb1738",
            "16f2e38ca3644f729175f660cc18042f",
            "44a14a8d1a1349ba93a2d1cc91099f4f",
            "01e10a55d5dd477ab0c801e55a5823d5",
            "90df94f5bdfd4e6ea26e222470ea8b2a",
            "8e95538cb41c4129b43ed685b4f7f9c4",
            "8ce787ed82f64acf9b684e9e09880eda",
            "c071d0bb350a4b1bb688b2f250ff3eff",
            "294e7ab3dd7a4254b4e82542f0bcbabf",
            "8aeaa563d49c4fc196781ec44d1c86a3",
            "ceb2024b1ec34922abd91b904e6423f4",
            "ed3b9c603e0146dabb9ef1c84931dea8",
            "e32d5558cfad453b88f455d1e9210a06",
            "eaf0b0f933d54e61b2917af19d605732",
            "fb5a27aab6094694bccb25ced9046d48",
            "6caa08a6a76443d398482b5770ebd5a8",
            "3d3e8df540f54591af7436141c9ebfa1",
            "1a9b7365a7564695ab5764b1210e00bf",
            "991f59d079d74c66bba98c164e2a1bdf",
            "818abfd40a31463dacf920c76415f948",
            "a68f0c8ac8814ae48b282e846ba56e95",
            "278e06a1f782407d88b771cc65762fc2",
            "760a09f46c9b478cad06067f9de9ce40",
            "3f6e65a6c374472ebb8c33a52821f2c1",
            "b8780480f68a486da253faace06cae6d",
            "29f521552a024634a1e46dd5a46d81a2",
            "dda3d38d48aa48a69fa10b36d889edc9",
            "2fd53fd832184cfa8cdb9d3f4c87881f",
            "3a45c61a10c842d8948502ea56e6fd4e",
            "b8b7334c87ca4d698362de6d97ab5572",
            "16db7b3128ba408c860c32eb66755247",
            "49d1dccf0353478ca47df0eb02995aad",
            "397753c446cf4c3a9f7d9fd2d77455ca",
            "f2f205f715f849f58241e1fc815edd84",
            "26cfd1756b314e78b1ad1cc9b37ce500",
            "e98223bff620464bb62c2b4d5d0af979",
            "bde3c527435e493495405337babe7a72",
            "2a508d8ecc2d447b965dc46038767f97",
            "dfb244ae5fa740a19b25d290305e32de",
            "7c62e5285d3f465d9dd9eb91dcc1a454",
            "3af9e04ec411495298c2265ba2dcd688",
            "aac269e245d041b5aef4d40e2d3a31ad",
            "95c6f1fec8644348babbc417413ed575",
            "0d6e67ca614e4300bf3aa7174ae1b87d",
            "d5ee1f9ad156429a959c348c7577af12",
            "a311efca380644e6a9285d51cb3283be",
            "5d61521b42724944941f781427c58f45",
            "c47415585ba6418c9be2676f987d3f4b",
            "3f0d242054f44c14a537b3c2b25f0405",
            "8d8cd2b07e964ead850a3fe56b884adf",
            "7f2fc96a7eeb4f6dba531e215bd95e83",
            "fa7ce7be65814d9c996ad5ae9bb2bc71",
            "3ee57ad22c974f1aaf35551ec5cf094b",
            "842ffaa2ce7e44fe817fc71c81698adf",
            "14aa58f65696409fb874e86de12fd046",
            "8315b0bfae9c48eb85d03f79ccbc3146",
            "3eb4262b481c4a11b4204085b3529ae9",
            "f89431879d644fc2a2a9cfbf09daa2bf",
            "c034de6b40b94460a9e401ff4e9bdb8c",
            "e26fd6b7da174ea4ad35c45641ac0841",
            "9475d46aa1bd404dbed9a0a7fa69999e",
            "7a7186739a6e42dc8ca3984dca560ad8",
            "a38ab3084b964b2e90526c8e511c809d",
            "d82eede909d1462da6a813e20fd59912",
            "0efc7da0190747d597245216bbf390a7",
            "8d98bdc17e6143a0a8c640088f4fabab",
            "e02b1d7c03214b52a3bfea0203a030da",
            "59aa52b77f6a4d00bcd1cf84c59024e5",
            "748bac53d326422f8e35dd766c54c58a",
            "14c9428541ec49439d89ee17e12fa061",
            "541e7f5b010145bda5b661f884e87e2a",
            "eecec74d60ef4691b3fd0b4a9e86b463",
            "9bb74d6f458944a0afb7064cae4a47d4",
            "f107822ae442456cbd86c60a89f14823",
            "cca1f4c57b8d46559b353dd53eb610d5",
            "f1f2f93f217a4c69bd9843c1cfab27fd",
            "8446a0f9babc47a099391d04f84887fe",
            "0e014cb19d5f42c2bae235b70bd4406a",
            "2d181561af28472980b2094f91df7463",
            "e734c4ba6129437bb15baaf6b83c736b",
            "285b393857c348c7931d8eb05f335281",
            "61ea32b6e33b42f8917d36d545344b40",
            "8a01e57b533e4f7890df83727955f4ff",
            "8f6c9034506242feb1abf1e032032072",
            "a6eee5e8ddb44e9f8671aebadc08ebbf",
            "80fbb6b372b14117bb32c203bbb52ff2",
            "19c61c468d85406b9f37dc8ca0070ae7",
            "baffe1a101504d63b4a61c2adbc64042",
            "ecdd733bfcce42b1b5190794f119967b",
            "bff4d93edbb749d7ba66522217e219a3",
            "7d794b6a1cec4e6d83fb9e14021d0741",
            "690e519dc5f84c05af22b39bee578fe5",
            "9863af8e05914b6d9b35a674ee35979a",
            "401e2b70366d438184fdfb9fd2b6f945",
            "d06071fb6a214cce8c1d715d92c785f5",
            "9941894c08bb487298a12e2e5a3cf2de",
            "beb74bacb17b4fac8006c182e588b642",
            "8c901a9aed0e423395ba74f97c2a44aa",
            "0c10ecca4e10444ea9b35558fad3e313",
            "5a9491fc831148fb8892e7eca7cb5aa3",
            "a5ecc24102b542a498285d9ca42f2f16",
            "e8630cef0b7c4826a4f6151d23f1f535",
            "6970ea4a7d344fd9bab305e1399f35ad",
            "04dd068312c4493bb407f949a4a243bd",
            "3770c42fe981438b923bec7f1353e12c",
            "130bd64539034b6191b1e3148a2308ce",
            "1270a89363d54ca58a0eb6ea6ab2cd8d",
            "b400e002fd234895be91d837363fd39b",
            "194a36275705452ead9ba4a1442543ff",
            "f831735b2ea64ea4b3a55377492fdece",
            "ea81cbf24b6b4af993115ff37442f8d6",
            "9712bc541b684d2a97cbc8026f67d9c7",
            "1486f3f731634e97bb75ea90caf03485",
            "b55ae8fbf09b47e5aed4d77e9cc010f5",
            "21599800e1a94be3b3dc6febb1c0e8a0",
            "c0f734ab55414f0386b45fd742cd2b15",
            "d0511890eed34616ba5968c0e0c48f5f",
            "fb28f701c7ab42e98fc233c54d1e4aa2",
            "f96fe57ea0b34bb486f65be8cbb1df2f",
            "34849385ca5e446aa49847028b11912e",
            "df5f065f8c9a484396dd12039ea559fd",
            "7292399df41d49959553d5343a7f1c74",
            "04a192aed28e4de69833f4280cc41923",
            "09b9e3c80af849658f252908f7553a3e",
            "10ad21377c6f4358a975b58a9a3d75c7",
            "2b408ccfb05c49f2b881980b81ef1873",
            "e5d927cae21b4893bd43fcd67e99d635",
            "3eec30bdf7574455ad7cefa30379c263",
            "cdb9c53aeae64cbdb45eebbd7c1c4031",
            "5dc47513cfd74053b8cb22fd37575f84",
            "c109fc792e4c4dcc9be47a3eb22bb537",
            "17f67e4af737419fb6578917177265ec",
            "2c2feb2637e84c0e8030a3387a27ed29",
            "fd0449fff5f743cf8b3471511833e2ce",
            "c1eae68f32944aee92e4c8c54a935696",
            "b5d42ac455644c459f675aefebf869bb",
            "13e4f803ded5415fba82ab9e087065c0",
            "fc2675acfa204583940f3c180f9e9240",
            "ccb4fe0133744ee08f133ab5c674c3bc",
            "ce56c2408c7941d784f505e5370f9e52",
            "1a8e381e027241658d2308c6c4a1d45a",
            "b8eea2302817465cb472d67d11129753",
            "f080a727d63544df83952b06b0dbca15",
            "6e91b91d6a8b4a60aef501d0800a1b75",
            "5db855d3d01647b8acd489ceb2053d9d",
            "923cf584361949999bc40a1ab549b85a",
            "14be0bbbddfe4de9bdd8d4497c149e22",
            "0745f1035fc347d09cc7d913737bd5d8",
            "93836de81c904a83ba22f7c45fe8c336",
            "b8a1719f696e4bd0b2a810b4112a194a",
            "a5a26aec5ba74cb39ae758a880bde5ef",
            "b0b9477c27a047a1a2929c0db5492fcb",
            "0e1a5cefa6a24f6ca3e49dadbeed7bee",
            "2db635f6dec449cc93b8b0f93a90d996",
            "7e773141fe8340c4ad21eb45dd48a294",
            "70e35caf15c84ba5806295ec80f18f8f",
            "329de513d51049dc9c5170072dd93fbc",
            "20338b78c03848d1bf42d7d2fa5b44f9",
            "5066acd6dd384c6499e6315a194e1cf8",
            "f56039e319094be98bbc1a9b370ad6f0",
            "e88e94ac6baa46c79be31e5809ef8f34",
            "b360447410cf42b983426940360fe7f6",
            "457eeaf55834469092b6b374fc9ed203",
            "66e49ddd118a4cf6a703c5ec1eea1aeb",
            "58f489604d084e41b5afacd16c79324f",
            "01431ca6dca54bbd8cf5bcd3e389c1e4",
            "6bcb27bbda89489aa8cd06d8dad12af4",
            "292ea02743cd460c9dd2eec56dfea346",
            "9d3f6f4fd67c4cb08d98be1ea82786fd",
            "77cf583aa0ba45b88ca8ef9de7fbddd5",
            "c7aaf427f4eb470ba3186debc35ee4d0",
            "0dc1319227294783aace9935c4572c20",
            "84c80f5c48634f65ba20f3abad0eee0b",
            "39e8b5b28ada4b5b9814c55d69a80b4a",
            "8e4b741bf0be44deb2c2854594e912f6",
            "c275b4733e3f415e9ffd033ff422a7c7",
            "39032c7bb5f143298305cabd85bedcbb",
            "a9032e91c1c241f6ba43a0488a5c08a5",
            "c11ff53ecfa245a5a0d37d6417d141ce",
            "e81828cfa0024ae79c4b503be5de58b0",
            "f9eb8de158fc48c380ca3d86703207ae",
            "106d68393eae4e6b961647d11fcc8583",
            "486bd1c0a3754ecfa2662894a733c2ee",
            "a316e3e845314b53837fc62d4127569a",
            "32ee0acef84649a89e5e8175b0a5d7f2",
            "0ede6a5522a249498876741a5d9797da",
            "b2d2a4b071614eef8408c8ffeda9bacb",
            "69eb8bf2be0f413d83d9f291afd76b19",
            "767355a1ff99498e8caac17dfc7fb9e2",
            "e2a57cebf42f43128a0556f097ec2148",
            "b3609eb795974bbc843ad26809ace2d7",
            "19c1ceedd5e04fef9d998fc36cd2e0cd",
            "38d7f2290872476dbdf1db938f4c4085",
            "6353840f57a549398bc0868f3b333ea0",
            "33a0b8eabe7b449ba6d2d21a4c73be7e",
            "a8ac9614a6b04d7c91a764071850fac7",
            "a62591e249894745828b764582d0974f",
            "ca19b9a99db748db8441417964660350",
            "3363c1af1abf49ddaf74c45ba16653b2",
            "314833fa81dc4532a6f6bd2926ba9f53",
            "def210901d1e4e6ab2ae24c0ac6ffb8d",
            "0403550cb58f423aadaaabb99ed3de57",
            "bb7a48ac231b428abe578c4d00f80984",
            "afabc23ea89c4ad18f3e98bb50ba1812",
            "7a7a889c25d94f01b39e3597620f5cf5",
            "c2fba0417d9141188383b4632c27c199"
          ]
        },
        "outputId": "8d8c21de-a499-48bf-ac71-50159ccc272b"
      },
      "execution_count": null,
      "outputs": [
        {
          "output_type": "stream",
          "name": "stderr",
          "text": [
            "/usr/local/lib/python3.11/dist-packages/huggingface_hub/utils/_auth.py:94: UserWarning: \n",
            "The secret `HF_TOKEN` does not exist in your Colab secrets.\n",
            "To authenticate with the Hugging Face Hub, create a token in your settings tab (https://huggingface.co/settings/tokens), set it as secret in your Google Colab and restart your session.\n",
            "You will be able to reuse this secret in all of your notebooks.\n",
            "Please note that authentication is recommended but still optional to access public models or datasets.\n",
            "  warnings.warn(\n"
          ]
        },
        {
          "output_type": "display_data",
          "data": {
            "text/plain": [
              "tokenizer_config.json:   0%|          | 0.00/373 [00:00<?, ?B/s]"
            ],
            "application/vnd.jupyter.widget-view+json": {
              "version_major": 2,
              "version_minor": 0,
              "model_id": "54f7a51de6b5429ea14239bb09efe2df"
            }
          },
          "metadata": {}
        },
        {
          "output_type": "display_data",
          "data": {
            "text/plain": [
              "vocab.txt:   0%|          | 0.00/241k [00:00<?, ?B/s]"
            ],
            "application/vnd.jupyter.widget-view+json": {
              "version_major": 2,
              "version_minor": 0,
              "model_id": "de684695c6594ab7bdeaac25733fc723"
            }
          },
          "metadata": {}
        },
        {
          "output_type": "display_data",
          "data": {
            "text/plain": [
              "tokenizer.json:   0%|          | 0.00/492k [00:00<?, ?B/s]"
            ],
            "application/vnd.jupyter.widget-view+json": {
              "version_major": 2,
              "version_minor": 0,
              "model_id": "c32c3496bcc84bf3b95fa16a12f11aed"
            }
          },
          "metadata": {}
        },
        {
          "output_type": "display_data",
          "data": {
            "text/plain": [
              "special_tokens_map.json:   0%|          | 0.00/169 [00:00<?, ?B/s]"
            ],
            "application/vnd.jupyter.widget-view+json": {
              "version_major": 2,
              "version_minor": 0,
              "model_id": "d6892bcf44d24f168a1c783be8d5dba5"
            }
          },
          "metadata": {}
        },
        {
          "output_type": "display_data",
          "data": {
            "text/plain": [
              "config.json:   0%|          | 0.00/870 [00:00<?, ?B/s]"
            ],
            "application/vnd.jupyter.widget-view+json": {
              "version_major": 2,
              "version_minor": 0,
              "model_id": "d25fc911df8c4e638c07dc347e40df43"
            }
          },
          "metadata": {}
        },
        {
          "output_type": "display_data",
          "data": {
            "text/plain": [
              "model.safetensors:   0%|          | 0.00/458M [00:00<?, ?B/s]"
            ],
            "application/vnd.jupyter.widget-view+json": {
              "version_major": 2,
              "version_minor": 0,
              "model_id": "4c64945243fb4bf4ba1f5c5727ca94c2"
            }
          },
          "metadata": {}
        },
        {
          "output_type": "stream",
          "name": "stderr",
          "text": [
            "<ipython-input-3-5d5e8ce36145>:346: FutureWarning: `torch.cuda.amp.GradScaler(args...)` is deprecated. Please use `torch.amp.GradScaler('cuda', args...)` instead.\n",
            "  scaler       = GradScaler()\n",
            "<ipython-input-3-5d5e8ce36145>:348: FutureWarning: `torch.cuda.amp.GradScaler(args...)` is deprecated. Please use `torch.amp.GradScaler('cuda', args...)` instead.\n",
            "  scaler = GradScaler()\n"
          ]
        },
        {
          "output_type": "display_data",
          "data": {
            "text/plain": [
              "[Epoch 1/10] Train:   0%|          | 0/110 [00:00<?, ?it/s]"
            ],
            "application/vnd.jupyter.widget-view+json": {
              "version_major": 2,
              "version_minor": 0,
              "model_id": "47ec752cde384cc59f3eb519c2ef8b51"
            }
          },
          "metadata": {}
        },
        {
          "output_type": "stream",
          "name": "stderr",
          "text": [
            "<ipython-input-3-5d5e8ce36145>:362: FutureWarning: `torch.cuda.amp.autocast(args...)` is deprecated. Please use `torch.amp.autocast('cuda', args...)` instead.\n",
            "  with autocast():\n",
            "Attention type 'block_sparse' is not possible if sequence_length: 128 <= num global tokens: 2 * config.block_size + min. num sliding tokens: 3 * config.block_size + config.num_random_blocks * config.block_size + additional buffer: config.num_random_blocks * config.block_size = 704 with config.block_size = 64, config.num_random_blocks = 3. Changing attention type to 'original_full'...\n"
          ]
        },
        {
          "output_type": "display_data",
          "data": {
            "text/plain": [
              "[Epoch 1/10] Val  :   0%|          | 0/28 [00:00<?, ?it/s]"
            ],
            "application/vnd.jupyter.widget-view+json": {
              "version_major": 2,
              "version_minor": 0,
              "model_id": "53414c75c38342dfab23c5bed07f3192"
            }
          },
          "metadata": {}
        },
        {
          "output_type": "stream",
          "name": "stderr",
          "text": [
            "<ipython-input-3-5d5e8ce36145>:402: FutureWarning: `torch.cuda.amp.autocast(args...)` is deprecated. Please use `torch.amp.autocast('cuda', args...)` instead.\n",
            "  with autocast():\n"
          ]
        },
        {
          "output_type": "stream",
          "name": "stdout",
          "text": [
            "Epoch 1/10  Train Loss: 0.1378  Val Loss: 0.0424\n",
            "Epoch 1/10  Train Loss: 0.1378  Val Loss:   0.0424\n"
          ]
        },
        {
          "output_type": "display_data",
          "data": {
            "text/plain": [
              "[Epoch 2/10] Train:   0%|          | 0/110 [00:00<?, ?it/s]"
            ],
            "application/vnd.jupyter.widget-view+json": {
              "version_major": 2,
              "version_minor": 0,
              "model_id": "294e7ab3dd7a4254b4e82542f0bcbabf"
            }
          },
          "metadata": {}
        },
        {
          "output_type": "display_data",
          "data": {
            "text/plain": [
              "[Epoch 2/10] Val  :   0%|          | 0/28 [00:00<?, ?it/s]"
            ],
            "application/vnd.jupyter.widget-view+json": {
              "version_major": 2,
              "version_minor": 0,
              "model_id": "818abfd40a31463dacf920c76415f948"
            }
          },
          "metadata": {}
        },
        {
          "output_type": "stream",
          "name": "stdout",
          "text": [
            "Epoch 2/10  Train Loss: 0.0624  Val Loss: 0.0495\n",
            "Epoch 2/10  Train Loss: 0.0624  Val Loss:   0.0495\n"
          ]
        },
        {
          "output_type": "display_data",
          "data": {
            "text/plain": [
              "[Epoch 3/10] Train:   0%|          | 0/110 [00:00<?, ?it/s]"
            ],
            "application/vnd.jupyter.widget-view+json": {
              "version_major": 2,
              "version_minor": 0,
              "model_id": "16db7b3128ba408c860c32eb66755247"
            }
          },
          "metadata": {}
        },
        {
          "output_type": "display_data",
          "data": {
            "text/plain": [
              "[Epoch 3/10] Val  :   0%|          | 0/28 [00:00<?, ?it/s]"
            ],
            "application/vnd.jupyter.widget-view+json": {
              "version_major": 2,
              "version_minor": 0,
              "model_id": "aac269e245d041b5aef4d40e2d3a31ad"
            }
          },
          "metadata": {}
        },
        {
          "output_type": "stream",
          "name": "stdout",
          "text": [
            "Epoch 3/10  Train Loss: 0.0528  Val Loss: 0.0493\n",
            "Epoch 3/10  Train Loss: 0.0528  Val Loss:   0.0493\n"
          ]
        },
        {
          "output_type": "display_data",
          "data": {
            "text/plain": [
              "[Epoch 4/10] Train:   0%|          | 0/110 [00:00<?, ?it/s]"
            ],
            "application/vnd.jupyter.widget-view+json": {
              "version_major": 2,
              "version_minor": 0,
              "model_id": "3ee57ad22c974f1aaf35551ec5cf094b"
            }
          },
          "metadata": {}
        },
        {
          "output_type": "display_data",
          "data": {
            "text/plain": [
              "[Epoch 4/10] Val  :   0%|          | 0/28 [00:00<?, ?it/s]"
            ],
            "application/vnd.jupyter.widget-view+json": {
              "version_major": 2,
              "version_minor": 0,
              "model_id": "d82eede909d1462da6a813e20fd59912"
            }
          },
          "metadata": {}
        },
        {
          "output_type": "stream",
          "name": "stdout",
          "text": [
            "Epoch 4/10  Train Loss: 0.0477  Val Loss: 0.0539\n",
            "Epoch 4/10  Train Loss: 0.0477  Val Loss:   0.0539\n"
          ]
        },
        {
          "output_type": "display_data",
          "data": {
            "text/plain": [
              "[Epoch 5/10] Train:   0%|          | 0/110 [00:00<?, ?it/s]"
            ],
            "application/vnd.jupyter.widget-view+json": {
              "version_major": 2,
              "version_minor": 0,
              "model_id": "cca1f4c57b8d46559b353dd53eb610d5"
            }
          },
          "metadata": {}
        },
        {
          "output_type": "display_data",
          "data": {
            "text/plain": [
              "[Epoch 5/10] Val  :   0%|          | 0/28 [00:00<?, ?it/s]"
            ],
            "application/vnd.jupyter.widget-view+json": {
              "version_major": 2,
              "version_minor": 0,
              "model_id": "80fbb6b372b14117bb32c203bbb52ff2"
            }
          },
          "metadata": {}
        },
        {
          "output_type": "stream",
          "name": "stdout",
          "text": [
            "Epoch 5/10  Train Loss: 0.0464  Val Loss: 0.0561\n",
            "Epoch 5/10  Train Loss: 0.0464  Val Loss:   0.0561\n"
          ]
        },
        {
          "output_type": "display_data",
          "data": {
            "text/plain": [
              "[Epoch 6/10] Train:   0%|          | 0/110 [00:00<?, ?it/s]"
            ],
            "application/vnd.jupyter.widget-view+json": {
              "version_major": 2,
              "version_minor": 0,
              "model_id": "beb74bacb17b4fac8006c182e588b642"
            }
          },
          "metadata": {}
        },
        {
          "output_type": "display_data",
          "data": {
            "text/plain": [
              "[Epoch 6/10] Val  :   0%|          | 0/28 [00:00<?, ?it/s]"
            ],
            "application/vnd.jupyter.widget-view+json": {
              "version_major": 2,
              "version_minor": 0,
              "model_id": "b400e002fd234895be91d837363fd39b"
            }
          },
          "metadata": {}
        },
        {
          "output_type": "stream",
          "name": "stdout",
          "text": [
            "Epoch 6/10  Train Loss: 0.0468  Val Loss: 0.0527\n",
            "Epoch 6/10  Train Loss: 0.0468  Val Loss:   0.0527\n"
          ]
        },
        {
          "output_type": "display_data",
          "data": {
            "text/plain": [
              "[Epoch 7/10] Train:   0%|          | 0/110 [00:00<?, ?it/s]"
            ],
            "application/vnd.jupyter.widget-view+json": {
              "version_major": 2,
              "version_minor": 0,
              "model_id": "f96fe57ea0b34bb486f65be8cbb1df2f"
            }
          },
          "metadata": {}
        },
        {
          "output_type": "display_data",
          "data": {
            "text/plain": [
              "[Epoch 7/10] Val  :   0%|          | 0/28 [00:00<?, ?it/s]"
            ],
            "application/vnd.jupyter.widget-view+json": {
              "version_major": 2,
              "version_minor": 0,
              "model_id": "5dc47513cfd74053b8cb22fd37575f84"
            }
          },
          "metadata": {}
        },
        {
          "output_type": "stream",
          "name": "stdout",
          "text": [
            "Epoch 7/10  Train Loss: 0.0435  Val Loss: 0.0513\n",
            "Epoch 7/10  Train Loss: 0.0435  Val Loss:   0.0513\n"
          ]
        },
        {
          "output_type": "display_data",
          "data": {
            "text/plain": [
              "[Epoch 8/10] Train:   0%|          | 0/110 [00:00<?, ?it/s]"
            ],
            "application/vnd.jupyter.widget-view+json": {
              "version_major": 2,
              "version_minor": 0,
              "model_id": "1a8e381e027241658d2308c6c4a1d45a"
            }
          },
          "metadata": {}
        },
        {
          "output_type": "display_data",
          "data": {
            "text/plain": [
              "[Epoch 8/10] Val  :   0%|          | 0/28 [00:00<?, ?it/s]"
            ],
            "application/vnd.jupyter.widget-view+json": {
              "version_major": 2,
              "version_minor": 0,
              "model_id": "b0b9477c27a047a1a2929c0db5492fcb"
            }
          },
          "metadata": {}
        },
        {
          "output_type": "stream",
          "name": "stdout",
          "text": [
            "Epoch 8/10  Train Loss: 0.0459  Val Loss: 0.0547\n",
            "Epoch 8/10  Train Loss: 0.0459  Val Loss:   0.0547\n"
          ]
        },
        {
          "output_type": "display_data",
          "data": {
            "text/plain": [
              "[Epoch 9/10] Train:   0%|          | 0/110 [00:00<?, ?it/s]"
            ],
            "application/vnd.jupyter.widget-view+json": {
              "version_major": 2,
              "version_minor": 0,
              "model_id": "457eeaf55834469092b6b374fc9ed203"
            }
          },
          "metadata": {}
        },
        {
          "output_type": "display_data",
          "data": {
            "text/plain": [
              "[Epoch 9/10] Val  :   0%|          | 0/28 [00:00<?, ?it/s]"
            ],
            "application/vnd.jupyter.widget-view+json": {
              "version_major": 2,
              "version_minor": 0,
              "model_id": "39e8b5b28ada4b5b9814c55d69a80b4a"
            }
          },
          "metadata": {}
        },
        {
          "output_type": "stream",
          "name": "stdout",
          "text": [
            "Epoch 9/10  Train Loss: 0.0440  Val Loss: 0.0546\n",
            "Epoch 9/10  Train Loss: 0.0440  Val Loss:   0.0546\n"
          ]
        },
        {
          "output_type": "display_data",
          "data": {
            "text/plain": [
              "[Epoch 10/10] Train:   0%|          | 0/110 [00:00<?, ?it/s]"
            ],
            "application/vnd.jupyter.widget-view+json": {
              "version_major": 2,
              "version_minor": 0,
              "model_id": "32ee0acef84649a89e5e8175b0a5d7f2"
            }
          },
          "metadata": {}
        },
        {
          "output_type": "display_data",
          "data": {
            "text/plain": [
              "[Epoch 10/10] Val  :   0%|          | 0/28 [00:00<?, ?it/s]"
            ],
            "application/vnd.jupyter.widget-view+json": {
              "version_major": 2,
              "version_minor": 0,
              "model_id": "a8ac9614a6b04d7c91a764071850fac7"
            }
          },
          "metadata": {}
        },
        {
          "output_type": "stream",
          "name": "stdout",
          "text": [
            "Epoch 10/10  Train Loss: 0.0440  Val Loss: 0.0564\n",
            "Epoch 10/10  Train Loss: 0.0440  Val Loss:   0.0564\n",
            "Final Evaluation → RMSE: 0.2413, MAE: 0.1988, Pearson: 0.8800, CRPS: 0.0582, ECE: 0.1635\n"
          ]
        },
        {
          "output_type": "display_data",
          "data": {
            "text/plain": [
              "<Figure size 640x480 with 1 Axes>"
            ],
            "image/png": "[encoded data removed]"
          },
          "metadata": {}
        }
      ]
    },
    {
      "cell_type": "code",
      "source": [
        "speaker = \"male\"\n",
        "\n",
        "wandb.init(project=\"huggingface\", name=f\"bieru-cnn-lstm-{speaker}\")\n",
        "model_name = \"monologg/kobigbird-bert-base\"\n",
        "data_path = \"bieru_soft_label_output.jsonl\"\n",
        "\n",
        "torch.save(model.state_dict(), f\"bieru_regression_{speaker}.pt\")\n",
        "\n",
        "# ✅ Step 8: Save model\n",
        "artifact_reg = wandb.Artifact(\"bieru-model-soft_label-male_last\", type=\"model\")\n",
        "artifact_reg.add_file(f\"bieru_regression_{speaker}.pt\")\n",
        "wandb.log_artifact(artifact_reg)"
      ],
      "metadata": {
        "id": "lUDFabPjF6Ge",
        "colab": {
          "base_uri": "https://localhost:8080/",
          "height": 252
        },
        "outputId": "3cca5606-6ea5-4063-cee7-005518937a1c"
      },
      "execution_count": null,
      "outputs": [
        {
          "output_type": "display_data",
          "data": {
            "text/plain": [
              "<IPython.core.display.Javascript object>"
            ],
            "application/javascript": [
              "\n",
              "        window._wandbApiKey = new Promise((resolve, reject) => {\n",
              "            function loadScript(url) {\n",
              "            return new Promise(function(resolve, reject) {\n",
              "                let newScript = document.createElement(\"script\");\n",
              "                newScript.onerror = reject;\n",
              "                newScript.onload = resolve;\n",
              "                document.body.appendChild(newScript);\n",
              "                newScript.src = url;\n",
              "            });\n",
              "            }\n",
              "            loadScript(\"https://cdn.jsdelivr.net/npm/postmate/build/postmate.min.js\").then(() => {\n",
              "            const iframe = document.createElement('iframe')\n",
              "            iframe.style.cssText = \"width:0;height:0;border:none\"\n",
              "            document.body.appendChild(iframe)\n",
              "            const handshake = new Postmate({\n",
              "                container: iframe,\n",
              "                url: 'https://wandb.ai/authorize'\n",
              "            });\n",
              "            const timeout = setTimeout(() => reject(\"Couldn't auto authenticate\"), 5000)\n",
              "            handshake.then(function(child) {\n",
              "                child.on('authorize', data => {\n",
              "                    clearTimeout(timeout)\n",
              "                    resolve(data)\n",
              "                });\n",
              "            });\n",
              "            })\n",
              "        });\n",
              "    "
            ]
          },
          "metadata": {}
        },
        {
          "output_type": "stream",
          "name": "stderr",
          "text": [
            "\u001b[34m\u001b[1mwandb\u001b[0m: \u001b[33mWARNING\u001b[0m If you're specifying your api key in code, ensure this code is not shared publicly.\n",
            "\u001b[34m\u001b[1mwandb\u001b[0m: \u001b[33mWARNING\u001b[0m Consider setting the WANDB_API_KEY environment variable, or running `wandb login` from the command line.\n",
            "\u001b[34m\u001b[1mwandb\u001b[0m: No netrc file found, creating one.\n",
            "\u001b[34m\u001b[1mwandb\u001b[0m: Appending key for api.wandb.ai to your netrc file: /root/.netrc\n",
            "\u001b[34m\u001b[1mwandb\u001b[0m: Currently logged in as: \u001b[33mcres4205\u001b[0m (\u001b[33mcres4205-sangmyung-university\u001b[0m) to \u001b[32mhttps://api.wandb.ai\u001b[0m. Use \u001b[1m`wandb login --relogin`\u001b[0m to force relogin\n"
          ]
        },
        {
          "output_type": "display_data",
          "data": {
            "text/plain": [
              "<IPython.core.display.HTML object>"
            ],
            "text/html": [
              "Tracking run with wandb version 0.19.11"
            ]
          },
          "metadata": {}
        },
        {
          "output_type": "display_data",
          "data": {
            "text/plain": [
              "<IPython.core.display.HTML object>"
            ],
            "text/html": [
              "Run data is saved locally in <code>/content/wandb/run-20250525_204220-z7gc5208</code>"
            ]
          },
          "metadata": {}
        },
        {
          "output_type": "display_data",
          "data": {
            "text/plain": [
              "<IPython.core.display.HTML object>"
            ],
            "text/html": [
              "Syncing run <strong><a href='https://wandb.ai/cres4205-sangmyung-university/huggingface/runs/z7gc5208' target=\"_blank\">bieru-cnn-lstm-male</a></strong> to <a href='https://wandb.ai/cres4205-sangmyung-university/huggingface' target=\"_blank\">Weights & Biases</a> (<a href='https://wandb.me/developer-guide' target=\"_blank\">docs</a>)<br>"
            ]
          },
          "metadata": {}
        },
        {
          "output_type": "display_data",
          "data": {
            "text/plain": [
              "<IPython.core.display.HTML object>"
            ],
            "text/html": [
              " View project at <a href='https://wandb.ai/cres4205-sangmyung-university/huggingface' target=\"_blank\">https://wandb.ai/cres4205-sangmyung-university/huggingface</a>"
            ]
          },
          "metadata": {}
        },
        {
          "output_type": "display_data",
          "data": {
            "text/plain": [
              "<IPython.core.display.HTML object>"
            ],
            "text/html": [
              " View run at <a href='https://wandb.ai/cres4205-sangmyung-university/huggingface/runs/z7gc5208' target=\"_blank\">https://wandb.ai/cres4205-sangmyung-university/huggingface/runs/z7gc5208</a>"
            ]
          },
          "metadata": {}
        },
        {
          "output_type": "execute_result",
          "data": {
            "text/plain": [
              "<Artifact bieru-model-soft_label-male_last>"
            ]
          },
          "metadata": {},
          "execution_count": 4
        }
      ]
    }
  ]
}